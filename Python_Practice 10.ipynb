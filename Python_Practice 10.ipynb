{
 "cells": [
  {
   "cell_type": "code",
   "execution_count": null,
   "id": "43fd6413",
   "metadata": {},
   "outputs": [],
   "source": [
    "#Functions "
   ]
  },
  {
   "cell_type": "code",
   "execution_count": 2,
   "id": "e2e169c4",
   "metadata": {},
   "outputs": [
    {
     "name": "stdout",
     "output_type": "stream",
     "text": [
      "9\n"
     ]
    }
   ],
   "source": [
    "#Write a Program Sum of two digits using Functions.\n",
    "\n",
    "def sum(a,b):      \n",
    "    print(a+b)\n",
    "sum(4,5)\n",
    "    \n",
    "    "
   ]
  },
  {
   "cell_type": "code",
   "execution_count": 7,
   "id": "aa8b28f3",
   "metadata": {},
   "outputs": [
    {
     "name": "stdout",
     "output_type": "stream",
     "text": [
      "9\n"
     ]
    }
   ],
   "source": [
    "#Same question Different Logic.\n",
    "def sum(a,b):\n",
    "    k=a+b\n",
    "    print(k)\n",
    "sum(4,5)"
   ]
  },
  {
   "cell_type": "code",
   "execution_count": 5,
   "id": "bdf6613f",
   "metadata": {},
   "outputs": [
    {
     "name": "stdout",
     "output_type": "stream",
     "text": [
      "1 Number is odd\n",
      "2 Number is even\n",
      "3 Number is odd\n",
      "4 Number is even\n",
      "5 Number is odd\n",
      "6 Number is even\n",
      "7 Number is odd\n",
      "8 Number is even\n",
      "9 Number is odd\n",
      "10 Number is even\n"
     ]
    }
   ],
   "source": [
    "#Write a program make pass a  list and that will return a number weither it even or odd using functions.\n",
    "\n",
    "def f1(x):\n",
    "    for i in x:\n",
    "        if(i%2==0):\n",
    "            print(i,\"Number is even\")\n",
    "        else:\n",
    "            print(i,\"Number is odd\")\n",
    "a=[1,2,3,4,5,6,7,8,9,10]\n",
    "f1(a)"
   ]
  },
  {
   "cell_type": "code",
   "execution_count": 9,
   "id": "d0ea2799",
   "metadata": {},
   "outputs": [
    {
     "name": "stdout",
     "output_type": "stream",
     "text": [
      "Enter your Range10\n",
      "0 Number is even\n",
      "1 Number is odd\n",
      "2 Number is even\n",
      "3 Number is odd\n",
      "4 Number is even\n",
      "5 Number is odd\n",
      "6 Number is even\n",
      "7 Number is odd\n",
      "8 Number is even\n",
      "9 Number is odd\n"
     ]
    }
   ],
   "source": [
    "#Write a program and TAke input from user and that will print  numbers weither it even or odd upto input taken from user.(using functions.)\n",
    "\n",
    "def f(x):\n",
    "    for i in range(x):\n",
    "        if(i%2==0):\n",
    "            print(i,\"Number is even\")\n",
    "        else:\n",
    "            print(i,\"Number is odd\")\n",
    "a=int(input(\"Enter your Range\"))\n",
    "f(a)"
   ]
  },
  {
   "cell_type": "code",
   "execution_count": 11,
   "id": "bc135779",
   "metadata": {},
   "outputs": [
    {
     "name": "stdout",
     "output_type": "stream",
     "text": [
      "0 Number is even\n",
      "1 Number is odd\n",
      "2 Number is even\n",
      "3 Number is odd\n",
      "4 Number is even\n",
      "5 Number is odd\n",
      "6 Number is even\n",
      "7 Number is odd\n",
      "8 Number is even\n",
      "9 Number is odd\n",
      "10 Number is even\n",
      "11 Number is odd\n",
      "12 Number is even\n",
      "13 Number is odd\n",
      "14 Number is even\n",
      "15 Number is odd\n",
      "16 Number is even\n",
      "17 Number is odd\n",
      "18 Number is even\n",
      "19 Number is odd\n"
     ]
    }
   ],
   "source": [
    "#Write a program and TAke input from user and that will print  numbers weither it even or odd \n",
    "#upto input taken from user.(using functions.)\n",
    "#Direct Method.\n",
    "def f(x):\n",
    "    for i in range(x):\n",
    "        if(i%2==0):\n",
    "            print(i,\"Number is even\")\n",
    "        else:\n",
    "            print(i,\"Number is odd\")\n",
    "f(20)"
   ]
  },
  {
   "cell_type": "code",
   "execution_count": 8,
   "id": "89f4bd95",
   "metadata": {},
   "outputs": [
    {
     "name": "stdout",
     "output_type": "stream",
     "text": [
      "3\n",
      "4\n",
      "8\n",
      "5\n",
      "9\n"
     ]
    }
   ],
   "source": [
    "#Pass  two  List  x, y it contains some data ,compare both list's elements by the elements positions and print the number \n",
    "#which is greater.\n",
    "\n",
    "\n",
    "x=[3,4,2,5,6]\n",
    "y=[1,2,8,4,9]\n",
    "def f2(x,y):\n",
    "    for i,j in  zip(x,y):\n",
    "        if(i>j):\n",
    "            print(i)\n",
    "        else:\n",
    "            print(j)\n",
    "f2(x,y)\n"
   ]
  },
  {
   "cell_type": "code",
   "execution_count": 9,
   "id": "bbacc364",
   "metadata": {},
   "outputs": [
    {
     "name": "stdout",
     "output_type": "stream",
     "text": [
      "7\n"
     ]
    }
   ],
   "source": [
    "#Concept - Whenever you want to use some output in function you have to use return.\n",
    "\n",
    "#Step 1\n",
    "\n",
    "def f2(x,y):\n",
    "    print(x+y)\n",
    "f2(3,4)"
   ]
  },
  {
   "cell_type": "code",
   "execution_count": 13,
   "id": "f2352faa",
   "metadata": {},
   "outputs": [
    {
     "name": "stdout",
     "output_type": "stream",
     "text": [
      "7\n",
      "None\n"
     ]
    }
   ],
   "source": [
    "#step 2 (suppose we Use 7 some where)\n",
    "#last method output but we store it in K.\n",
    "k=f2(3,4)\n",
    "\n",
    "#Use 7 as somewhere (But i'll gives NONE Because we cant use return )\n",
    "print(k)"
   ]
  },
  {
   "cell_type": "code",
   "execution_count": 14,
   "id": "c52dc9e1",
   "metadata": {},
   "outputs": [
    {
     "name": "stdout",
     "output_type": "stream",
     "text": [
      "7\n",
      "7\n"
     ]
    }
   ],
   "source": [
    "#Step 3\n",
    "\n",
    "#Note - if we want to use result at somewhere we have to return return in Function.\n",
    "\n",
    "\n",
    "def f2(x,y):\n",
    "    print(x+y)\n",
    "    return x+y\n",
    "k = f2(3,4)\n",
    "print(k)"
   ]
  }
 ],
 "metadata": {
  "kernelspec": {
   "display_name": "Python 3",
   "language": "python",
   "name": "python3"
  },
  "language_info": {
   "codemirror_mode": {
    "name": "ipython",
    "version": 3
   },
   "file_extension": ".py",
   "mimetype": "text/x-python",
   "name": "python",
   "nbconvert_exporter": "python",
   "pygments_lexer": "ipython3",
   "version": "3.8.8"
  }
 },
 "nbformat": 4,
 "nbformat_minor": 5
}
