{
 "cells": [
  {
   "cell_type": "code",
   "execution_count": 1,
   "id": "918baeea",
   "metadata": {},
   "outputs": [
    {
     "name": "stdout",
     "output_type": "stream",
     "text": [
      "450\n"
     ]
    }
   ],
   "source": [
    "#find prime number or not and add it (List)\n",
    "\n",
    "x = [9,13,14,27,29,31,7,17,53,59,73,89,79,42]\n",
    "sum1=0\n",
    "\n",
    "for i in x:\n",
    "    k=0\n",
    "    for j in range(2,i):\n",
    "        if(i%j==0):\n",
    "            k = k+1\n",
    "            break\n",
    "    if(k==0):\n",
    "        sum1=sum1+i\n",
    "print(sum1)\n",
    "    "
   ]
  },
  {
   "cell_type": "code",
   "execution_count": 2,
   "id": "7ea9acf2",
   "metadata": {},
   "outputs": [
    {
     "name": "stdout",
     "output_type": "stream",
     "text": [
      "97, number is prime \n"
     ]
    }
   ],
   "source": [
    "#find given number is prime number or not ?\n",
    "x=97\n",
    "k=0\n",
    "for i in range(1,x+1):\n",
    "    if(x%i ==0):\n",
    "        k=k+1\n",
    "if(k==2):\n",
    "    print(f\"{x}, number is prime \")\n",
    "else:\n",
    "    print(f\"{x}, number is not prime\")"
   ]
  },
  {
   "cell_type": "code",
   "execution_count": 3,
   "id": "4f2a80db",
   "metadata": {},
   "outputs": [
    {
     "name": "stdout",
     "output_type": "stream",
     "text": [
      "Enter your number21\n",
      " 21, number is not prime\n"
     ]
    }
   ],
   "source": [
    "#Wap take input from user and find the given number is prime or not\n",
    "\n",
    "x= int(input(\"Enter your number\"))\n",
    "k=0\n",
    "for i in range(1,x+1):\n",
    "    if(x%i==0):\n",
    "        k=k+1\n",
    "if(k==2):\n",
    "    print(f\"{x}, number is prime\")\n",
    "else:\n",
    "    print(f\" {x}, number is not prime\")\n",
    "    "
   ]
  },
  {
   "cell_type": "code",
   "execution_count": 4,
   "id": "b10ac744",
   "metadata": {},
   "outputs": [
    {
     "name": "stdout",
     "output_type": "stream",
     "text": [
      "89\n"
     ]
    }
   ],
   "source": [
    "#Assignment Q1\n",
    "\n",
    "x=[14,16,22,32,45,89]\n",
    "y=[21,13,6,8,9,11]\n",
    "max=0\n",
    "for i in (x+y):\n",
    "    if(i>max):\n",
    "        max=i\n",
    "print(max)"
   ]
  },
  {
   "cell_type": "code",
   "execution_count": 5,
   "id": "9397ec3d",
   "metadata": {},
   "outputs": [
    {
     "name": "stdout",
     "output_type": "stream",
     "text": [
      "70\n",
      "120\n",
      "400\n"
     ]
    }
   ],
   "source": [
    "#Assignment Q2\n",
    "x=[12,35,70,9,120,345,400]\n",
    "for i in x:\n",
    "    if(i%2==0) and (i%10==0):\n",
    "        print(i)"
   ]
  },
  {
   "cell_type": "code",
   "execution_count": 6,
   "id": "437f7253",
   "metadata": {},
   "outputs": [
    {
     "name": "stdout",
     "output_type": "stream",
     "text": [
      "30\n"
     ]
    }
   ],
   "source": [
    "#(list)sum of all number divisble by 3.\n",
    "\n",
    "x=[3,6,9,12,10,5]\n",
    "sum =0\n",
    "for i in x:\n",
    "    if(i%3==0):\n",
    "        sum=sum+i\n",
    "print(sum)"
   ]
  },
  {
   "cell_type": "code",
   "execution_count": 7,
   "id": "15e9c5b1",
   "metadata": {},
   "outputs": [
    {
     "name": "stdout",
     "output_type": "stream",
     "text": [
      "2534\n"
     ]
    }
   ],
   "source": [
    "#Add those numbers only which are greater than 100 in a given list.\n",
    "\n",
    "x=[5,12,33,45,6,5,4,66,77,234,45,1200,1100]\n",
    "sum=0\n",
    "for i in x:\n",
    "    if(i>100):\n",
    "        sum=sum+i\n",
    "print(sum)"
   ]
  },
  {
   "cell_type": "code",
   "execution_count": 8,
   "id": "d9c97025",
   "metadata": {},
   "outputs": [
    {
     "name": "stdout",
     "output_type": "stream",
     "text": [
      "Enter your number:20\n",
      "2  Number is Prime\n",
      "3  Number is Prime\n",
      "5  Number is Prime\n",
      "7  Number is Prime\n",
      "11  Number is Prime\n",
      "13  Number is Prime\n",
      "17  Number is Prime\n",
      "19  Number is Prime\n"
     ]
    }
   ],
   "source": [
    "#Find prime number lies between 1 to 20 ? and take input from user (ex like 1 to 100, and so on...(inter view type questions)\n",
    "\n",
    "#Find prime number lies between 1 to 20 ? and take input from user (ex like 1 to 100, and so on...(inter view type questions)\n",
    "\n",
    "x=int(input(\"Enter your number:\"))\n",
    "for  i in range(2,x):\n",
    "    k=0\n",
    "    for j in range(2,i):\n",
    "        if(i%j==0):\n",
    "            k=k+1\n",
    "            break\n",
    "    if(k==0):\n",
    "         print(i,\" Number is Prime\")"
   ]
  },
  {
   "cell_type": "code",
   "execution_count": null,
   "id": "f044a670",
   "metadata": {},
   "outputs": [],
   "source": [
    "#Pattern programs"
   ]
  },
  {
   "cell_type": "code",
   "execution_count": 9,
   "id": "ffb2d6a4",
   "metadata": {},
   "outputs": [
    {
     "name": "stdout",
     "output_type": "stream",
     "text": [
      "#\n"
     ]
    }
   ],
   "source": [
    "#Q1 \n",
    "\n",
    "print(\"#\")"
   ]
  },
  {
   "cell_type": "code",
   "execution_count": 10,
   "id": "0b729bc7",
   "metadata": {},
   "outputs": [
    {
     "name": "stdout",
     "output_type": "stream",
     "text": [
      "####\n"
     ]
    }
   ],
   "source": [
    "#Q2 \n",
    "\n",
    "print(4*\"#\")"
   ]
  },
  {
   "cell_type": "code",
   "execution_count": 12,
   "id": "670e82d5",
   "metadata": {},
   "outputs": [
    {
     "name": "stdout",
     "output_type": "stream",
     "text": [
      "####\n",
      "####\n",
      "####\n",
      "####\n"
     ]
    }
   ],
   "source": [
    "#Q3\n",
    "\n",
    "for i in range(4):\n",
    "    print(4*\"#\")"
   ]
  }
 ],
 "metadata": {
  "kernelspec": {
   "display_name": "Python 3",
   "language": "python",
   "name": "python3"
  },
  "language_info": {
   "codemirror_mode": {
    "name": "ipython",
    "version": 3
   },
   "file_extension": ".py",
   "mimetype": "text/x-python",
   "name": "python",
   "nbconvert_exporter": "python",
   "pygments_lexer": "ipython3",
   "version": "3.8.8"
  }
 },
 "nbformat": 4,
 "nbformat_minor": 5
}
