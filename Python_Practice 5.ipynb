{
 "cells": [
  {
   "cell_type": "code",
   "execution_count": 2,
   "id": "c675a578",
   "metadata": {},
   "outputs": [
    {
     "name": "stdout",
     "output_type": "stream",
     "text": [
      "5  This factorial is even 120\n",
      "6  This factorial is even 720\n",
      "8  This factorial is even 40320\n",
      "10  This factorial is even 3628800\n",
      "7  This factorial is even 5040\n",
      "9  This factorial is even 362880\n"
     ]
    }
   ],
   "source": [
    "x= [5,6,8,10,7,9]\n",
    "for i in x:\n",
    "    fact = 1\n",
    "    for j in range(1,i+1):\n",
    "        fact = fact * j\n",
    "    if(fact %2 ==0):\n",
    "        print(i,\" This factorial is even\",fact)\n",
    "    \n",
    "\n",
    "    "
   ]
  },
  {
   "cell_type": "code",
   "execution_count": 21,
   "id": "e7e52658",
   "metadata": {},
   "outputs": [
    {
     "name": "stdout",
     "output_type": "stream",
     "text": [
      "5  This factorial is even 120\n",
      "6  This factorial is even 720\n",
      "8  This factorial is even 40320\n",
      "10  This factorial is even 3628800\n",
      "7  This factorial is even 5040\n",
      "9  This factorial is even 362880\n",
      "399\n"
     ]
    }
   ],
   "source": [
    "x= [5,6,8,10,7,9]\n",
    "for i in x:\n",
    "    fact = 1\n",
    "    for j in range(1,i+1):\n",
    "        fact = fact * j\n",
    "    if(fact %2 ==0):\n",
    "        print(i,\" This factorial is even\",fact)\n",
    "        sum = sum+j\n",
    "print(sum)\n",
    "\n",
    "\n",
    "    "
   ]
  },
  {
   "cell_type": "code",
   "execution_count": 8,
   "id": "ba160866",
   "metadata": {},
   "outputs": [
    {
     "name": "stdout",
     "output_type": "stream",
     "text": [
      "3\n",
      "18\n",
      "180\n",
      "3780\n"
     ]
    }
   ],
   "source": [
    "x = [3,6,10,21]\n",
    "sum=1\n",
    "for i in x:\n",
    "    sum = sum * i\n",
    "    print(sum)"
   ]
  },
  {
   "cell_type": "code",
   "execution_count": 26,
   "id": "802f4869",
   "metadata": {},
   "outputs": [
    {
     "name": "stdout",
     "output_type": "stream",
     "text": [
      "9\n",
      "10\n",
      "32\n",
      "32\n",
      "32\n"
     ]
    }
   ],
   "source": [
    "x = [9,10,32,21,4]\n",
    "max = 1\n",
    "for i in x:\n",
    "    if(i>max):\n",
    "        max=i\n",
    "print(max)"
   ]
  },
  {
   "cell_type": "code",
   "execution_count": 39,
   "id": "db602a6c",
   "metadata": {},
   "outputs": [
    {
     "name": "stdout",
     "output_type": "stream",
     "text": [
      "99\n"
     ]
    }
   ],
   "source": [
    "x = [27,32,41,49,82,83,99]\n",
    "max=1\n",
    "for i in x:\n",
    "    if(i>max):\n",
    "        max = i\n",
    "        if( max % 2==0):\n",
    "            max=1\n",
    "print(max)\n",
    "\n"
   ]
  },
  {
   "cell_type": "code",
   "execution_count": 5,
   "id": "129833b9",
   "metadata": {},
   "outputs": [
    {
     "name": "stdout",
     "output_type": "stream",
     "text": [
      "64\n"
     ]
    }
   ],
   "source": [
    "x = [3,9,11,22,42]\n",
    "sum = 0\n",
    "for i in x:\n",
    "    if( i %2 ==0):\n",
    "        sum=sum+i\n",
    "print(sum)"
   ]
  },
  {
   "cell_type": "code",
   "execution_count": 5,
   "id": "9f161b1f",
   "metadata": {},
   "outputs": [
    {
     "name": "stdout",
     "output_type": "stream",
     "text": [
      "6\n"
     ]
    }
   ],
   "source": [
    "#Print items through index values.\n",
    "x=[2,3,4,5,6,8]\n",
    "print(x[4])"
   ]
  },
  {
   "cell_type": "code",
   "execution_count": 3,
   "id": "acf31869",
   "metadata": {},
   "outputs": [
    {
     "name": "stdout",
     "output_type": "stream",
     "text": [
      "[2, 3, 4, 5, 10, 8]\n"
     ]
    }
   ],
   "source": [
    "#Change Values through positive index values.\n",
    "x=[2,3,4,5,6,8]\n",
    "x[4]=10\n",
    "print(x)"
   ]
  },
  {
   "cell_type": "code",
   "execution_count": 4,
   "id": "2f422590",
   "metadata": {},
   "outputs": [
    {
     "name": "stdout",
     "output_type": "stream",
     "text": [
      "[2, 3, 4, 5, 6, 10]\n"
     ]
    }
   ],
   "source": [
    "#Change Values through negative index values.\n",
    "x=[2,3,4,5,6,8]\n",
    "x[-1]=10\n",
    "print(x)"
   ]
  },
  {
   "cell_type": "code",
   "execution_count": 6,
   "id": "964bdf36",
   "metadata": {},
   "outputs": [
    {
     "name": "stdout",
     "output_type": "stream",
     "text": [
      "[2, 3, 4, 5, 6, 8, 12]\n"
     ]
    }
   ],
   "source": [
    "#Add some items through append () function ,at the last position of the list.\n",
    "x=[2,3,4,5,6,8]\n",
    "x.append(12)\n",
    "print(x)"
   ]
  },
  {
   "cell_type": "code",
   "execution_count": 1,
   "id": "5665cebb",
   "metadata": {},
   "outputs": [
    {
     "name": "stdout",
     "output_type": "stream",
     "text": [
      "6\n",
      "12\n",
      "18\n",
      "24\n",
      "30\n",
      "36\n",
      "42\n",
      "48\n",
      "54\n",
      "60\n"
     ]
    }
   ],
   "source": [
    "#Print Table of 6\n",
    "\n",
    "for i in range(1,11):\n",
    "    print(6*i)"
   ]
  },
  {
   "cell_type": "code",
   "execution_count": 2,
   "id": "ae70b101",
   "metadata": {},
   "outputs": [
    {
     "name": "stdout",
     "output_type": "stream",
     "text": [
      "21\n",
      "32\n",
      "5\n",
      "6\n",
      "10\n"
     ]
    }
   ],
   "source": [
    "#Print numbers, which are greater than 4.\n",
    "\n",
    "x = [21,32,5,6,10,4,3,2,1]\n",
    "for i in x:\n",
    "    if(i >4):\n",
    "        print(i)\n",
    "        "
   ]
  },
  {
   "cell_type": "code",
   "execution_count": 3,
   "id": "ad781f34",
   "metadata": {},
   "outputs": [
    {
     "name": "stdout",
     "output_type": "stream",
     "text": [
      "22\n",
      "32\n",
      "4\n",
      "0\n",
      "22\n"
     ]
    }
   ],
   "source": [
    "#Print Even numbers in given list.\n",
    "\n",
    "x= [22,32,41,4,3,0,29,22]\n",
    "for i in x:\n",
    "    if(i%2==0):\n",
    "        print(i)"
   ]
  },
  {
   "cell_type": "code",
   "execution_count": 5,
   "id": "981d580a",
   "metadata": {},
   "outputs": [
    {
     "name": "stdout",
     "output_type": "stream",
     "text": [
      "266\n"
     ]
    }
   ],
   "source": [
    "#Print sum of even number in given list.\n",
    "\n",
    "x= [20,32,41,52,62,100]\n",
    "sum=0\n",
    "for i in x:\n",
    "    if(i%2==0):\n",
    "        sum=sum + i\n",
    "print(sum)"
   ]
  },
  {
   "cell_type": "code",
   "execution_count": 6,
   "id": "12a0bae7",
   "metadata": {},
   "outputs": [
    {
     "name": "stdout",
     "output_type": "stream",
     "text": [
      "3824 is not prime number\n"
     ]
    }
   ],
   "source": [
    "#Find number is prime or not ?\n",
    "\n",
    "x =3824\n",
    "k=0\n",
    "for i in range(1,x+1):\n",
    "    if(x%i==0):\n",
    "        k=k+1\n",
    "if(k==2):\n",
    "    print(i,\"is Prime Number.\")\n",
    "else:\n",
    "    print(i,\"is not prime number\")"
   ]
  }
 ],
 "metadata": {
  "kernelspec": {
   "display_name": "Python 3",
   "language": "python",
   "name": "python3"
  },
  "language_info": {
   "codemirror_mode": {
    "name": "ipython",
    "version": 3
   },
   "file_extension": ".py",
   "mimetype": "text/x-python",
   "name": "python",
   "nbconvert_exporter": "python",
   "pygments_lexer": "ipython3",
   "version": "3.8.8"
  }
 },
 "nbformat": 4,
 "nbformat_minor": 5
}
