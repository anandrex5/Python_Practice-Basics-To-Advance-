{
 "cells": [
  {
   "cell_type": "code",
   "execution_count": null,
   "id": "038917e8",
   "metadata": {},
   "outputs": [],
   "source": [
    "                               #DICTIONARIES FOR PYTHON\n",
    "    \n",
    "    "
   ]
  },
  {
   "cell_type": "code",
   "execution_count": 6,
   "id": "a09b6489",
   "metadata": {},
   "outputs": [
    {
     "name": "stdout",
     "output_type": "stream",
     "text": [
      "dict_items([('name', ['ajay', 'dinesh']), ('age', [12, 23])])\n"
     ]
    }
   ],
   "source": [
    "x= {\"name\":[\"ajay\", \"dinesh\"],\"age\":[12,23]}\n",
    "print(x.items())"
   ]
  },
  {
   "cell_type": "code",
   "execution_count": 7,
   "id": "0caa930e",
   "metadata": {},
   "outputs": [
    {
     "name": "stdout",
     "output_type": "stream",
     "text": [
      "dict_keys(['name', 'age', 'Course'])\n"
     ]
    }
   ],
   "source": [
    "                                        #KEYS (Arguments)\n",
    "    \n",
    "\n",
    "#Q )Find Total numbers of Keys?\n",
    "\n",
    "\n",
    "x={\"name\":\"Anand\",\"age\":24,\"Course\":\"MCA\"}\n",
    "print(x.keys())\n",
    "\n",
    "\n",
    "#There is number of keys are 3 (name,age,course)"
   ]
  },
  {
   "cell_type": "code",
   "execution_count": 18,
   "id": "8e702c6a",
   "metadata": {},
   "outputs": [
    {
     "name": "stdout",
     "output_type": "stream",
     "text": [
      "None\n",
      "{'name': 'Anand', 'age': 24, 'course': 'Mca', 'College': 'Galgotia College'}\n",
      "None\n",
      "{'course': 'Mca', 'College': 'Galgotia College', 'name': 'Anand', 'age': 24}\n"
     ]
    }
   ],
   "source": [
    "#How we update x? 0r we can say that if we use some new keys how we update it.\n",
    "\n",
    "x={\"name\":\"Anand\",\"age\":24}\n",
    "y={\"course\":\"Mca\",\"College\":\"Galgotia College\"}\n",
    "\n",
    "print(x.update(y))\n",
    "print(x)\n",
    "\n",
    "\n",
    "\n",
    "#Similary we can update y as x we update above\n",
    "\n",
    "\n",
    "\n",
    "x={\"name\":\"Anand\",\"age\":24}\n",
    "y={\"course\":\"Mca\",\"College\":\"Galgotia College\"}\n",
    "print(y.update(x))\n",
    "print(y)\n"
   ]
  },
  {
   "cell_type": "code",
   "execution_count": 4,
   "id": "66916081",
   "metadata": {},
   "outputs": [
    {
     "name": "stdout",
     "output_type": "stream",
     "text": [
      "None\n",
      "{'name': 'Anand', 'age': 24, 'course': 'Mca'}\n"
     ]
    }
   ],
   "source": [
    "#SIMPLE EXAMPLE OF UPDATE.............\n",
    "\n",
    "\n",
    "x={\"name\":\"Anand\",\"age\":24}\n",
    "y={\"course\":\"Mca\"}\n",
    "print(x.update(y))\n",
    "print(x)"
   ]
  },
  {
   "cell_type": "code",
   "execution_count": 29,
   "id": "d1f10a22",
   "metadata": {},
   "outputs": [
    {
     "name": "stdout",
     "output_type": "stream",
     "text": [
      "{'name': 'anand'}\n",
      "{'name': 'anand', 'college': 'Galgotia College'}\n",
      "{'name': 'anand', 'college': 'Galgotia College', 'age': 24}\n"
     ]
    }
   ],
   "source": [
    "#How we add Keys and Values in EMPTY DICTIONARIES\n",
    "\n",
    "\n",
    "x={}\n",
    "x[\"name\"]=\"anand\"\n",
    "print(x)\n",
    "\n",
    "\n",
    "\n",
    "\n",
    "#Add more Keys and values.\n",
    "\n",
    "x[\"college\"]=\"Galgotia College\"\n",
    "print(x)\n",
    "\n",
    "#add one more key\n",
    "\n",
    "\n",
    "x[\"age\"]=24\n",
    "print(x)"
   ]
  },
  {
   "cell_type": "code",
   "execution_count": 1,
   "id": "cf4f5129",
   "metadata": {},
   "outputs": [
    {
     "name": "stdout",
     "output_type": "stream",
     "text": [
      "Enter the Name:Anand\n",
      "Enter the Age:23\n",
      "{'Anand': '23'}\n",
      "Enter the Name:Sofia\n",
      "Enter the Age:18\n",
      "{'Anand': '23', 'Sofia': '18'}\n",
      "Enter the Name:Kittu\n",
      "Enter the Age:22\n",
      "{'Anand': '23', 'Sofia': '18', 'Kittu': '22'}\n",
      "Enter the Name:Ankita\n",
      "Enter the Age:21\n",
      "{'Anand': '23', 'Sofia': '18', 'Kittu': '22', 'Ankita': '21'}\n",
      "Enter the Name:Apoorva\n",
      "Enter the Age:20\n",
      "{'Anand': '23', 'Sofia': '18', 'Kittu': '22', 'Ankita': '21', 'Apoorva': '20'}\n"
     ]
    }
   ],
   "source": [
    "#Q ) Take 10 input from user \"name and \"age\" , save it into Dictonary using Looping.\n",
    "\n",
    "m={}\n",
    "for i in range(5):\n",
    "    x=input(\"Enter the Name:\")\n",
    "    y=input(\"Enter the Age:\")\n",
    "    m[x]=y\n",
    "    print(m)\n",
    "\n",
    "    "
   ]
  },
  {
   "cell_type": "code",
   "execution_count": null,
   "id": "04ebf72a",
   "metadata": {},
   "outputs": [],
   "source": [
    "                            #Pop() use to remove elements from the List.\n",
    "    "
   ]
  },
  {
   "cell_type": "code",
   "execution_count": 1,
   "id": "6d5bedbe",
   "metadata": {},
   "outputs": [
    {
     "name": "stdout",
     "output_type": "stream",
     "text": [
      "{'name': 'Anand', 'age': 24}\n"
     ]
    }
   ],
   "source": [
    "#Q ) Remove element from the list using pop().\n",
    "\n",
    "x={\"name\":\"Anand\",\"age\":24,\"course\":\"Mca\"}\n",
    "x.pop(\"course\")\n",
    "print(x)"
   ]
  },
  {
   "cell_type": "code",
   "execution_count": 3,
   "id": "29fe80eb",
   "metadata": {},
   "outputs": [
    {
     "data": {
      "text/plain": [
       "'Not Available'"
      ]
     },
     "execution_count": 3,
     "metadata": {},
     "output_type": "execute_result"
    }
   ],
   "source": [
    "#Q ) Remove element from the list using pop() which is not available in the List.\n",
    "\n",
    "\n",
    "x={\"name\":\"Anand\",\"age\":24,\"course\":\"Mca\"}\n",
    "x.pop(\"Gender\",\"Not Available\")\n"
   ]
  },
  {
   "cell_type": "code",
   "execution_count": 8,
   "id": "c57bbf25",
   "metadata": {},
   "outputs": [
    {
     "name": "stdout",
     "output_type": "stream",
     "text": [
      "Anand\n"
     ]
    }
   ],
   "source": [
    "                #setdefault() method\n",
    "    \n",
    "    \n",
    "#The setdefault() method returns the value of the item with the specified key.\n",
    "\n",
    "#Note-----(If the key is not exist, insert the key with the specified value.)\n",
    "\n",
    "\n",
    "#Example 1)  \n",
    "\n",
    "x={\"name\":\"Anand\",\"age\":24}\n",
    "x.setdefault(\"name\",\"Kittu\")\n",
    "\n",
    "\n",
    "#ANd same methods\n",
    "\n",
    "\n",
    "\n",
    "\n",
    "x={\"name\":\"Anand\",\"age\":24}\n",
    "y=x.setdefault(\"name\",\"Kittu\")\n",
    "print(y)\n",
    "\n"
   ]
  },
  {
   "cell_type": "code",
   "execution_count": 19,
   "id": "49f84a20",
   "metadata": {},
   "outputs": [
    {
     "name": "stdout",
     "output_type": "stream",
     "text": [
      "{'name': 'Anand', 'age': 24, 'course': 'MCA'}\n",
      "{'name': 'Anand', 'age': 24, 'course': 'MCA'}\n"
     ]
    }
   ],
   "source": [
    "#Add one key and its value with using setdefault() method.\n",
    "\n",
    "x={\"name\":\"Anand\",\"age\":24}\n",
    "x.setdefault(\"course\",\"MCA\")\n",
    "print(x)\n",
    "\n",
    "\n",
    "#ANd\n",
    "\n",
    "\n",
    "x={\"name\":\"Anand\",\"age\":24}\n",
    "y=x.setdefault(\"course\",\"MCA\")\n",
    "print(x)\n",
    "\n"
   ]
  },
  {
   "cell_type": "code",
   "execution_count": 12,
   "id": "c08de927",
   "metadata": {},
   "outputs": [
    {
     "name": "stdout",
     "output_type": "stream",
     "text": [
      "Aventador\n"
     ]
    }
   ],
   "source": [
    "#Example 2)\n",
    "\n",
    "\n",
    "car={\n",
    "    \"Brand\":\"Lambo\",\n",
    "    \"Model\":\"Aventador\",\n",
    "    \"Year\":2020,\n",
    "}\n",
    "x=car.setdefault(\"Model\",\"Huracan\")\n",
    "print(x)\n"
   ]
  },
  {
   "cell_type": "code",
   "execution_count": 14,
   "id": "2b83e25e",
   "metadata": {},
   "outputs": [
    {
     "name": "stdout",
     "output_type": "stream",
     "text": [
      "RED\n"
     ]
    }
   ],
   "source": [
    "#other Example\n",
    "\n",
    "\n",
    "car={\n",
    "    \"Brand\":\"Lambo\",\n",
    "    \"Model\":\"Aventador\",\n",
    "    \"Year\":2020,\n",
    "}\n",
    "x=car.setdefault(\"Color\",\"RED\")\n",
    "print(x)\n"
   ]
  },
  {
   "cell_type": "code",
   "execution_count": 5,
   "id": "e8708c24",
   "metadata": {},
   "outputs": [
    {
     "name": "stdout",
     "output_type": "stream",
     "text": [
      "Enter Keys :Name\n",
      "Enter Values :Anand\n",
      "None\n",
      "{'Name': 'Anand'}\n",
      "Enter Keys :Age\n",
      "Enter Values :24\n",
      "None\n",
      "{'Name': 'Anand', 'Age': '24'}\n",
      "Enter Keys :Course \n",
      "Enter Values :MCA\n",
      "None\n",
      "{'Name': 'Anand', 'Age': '24', 'Course ': 'MCA'}\n",
      "Enter Keys :College \n",
      "Enter Values :GCET\n",
      "None\n",
      "{'Name': 'Anand', 'Age': '24', 'Course ': 'MCA', 'College ': 'GCET'}\n"
     ]
    }
   ],
   "source": [
    "#Write a Program to make Dictionary from User.\n",
    "\n",
    "m={}\n",
    "for i in range(4):\n",
    "    x=input(\"Enter Keys :\")\n",
    "    y=input(\"Enter Values :\")\n",
    "    print(m.update({x:y}))\n",
    "    print(m)\n",
    "  \n",
    "    "
   ]
  },
  {
   "cell_type": "code",
   "execution_count": null,
   "id": "16b5eff1",
   "metadata": {},
   "outputs": [],
   "source": []
  },
  {
   "cell_type": "code",
   "execution_count": 12,
   "id": "1201d3a3",
   "metadata": {},
   "outputs": [
    {
     "name": "stdout",
     "output_type": "stream",
     "text": [
      "Anand\n",
      "Kittu\n",
      "Rahul\n"
     ]
    }
   ],
   "source": [
    "                              #For loop with Dictionaries\n",
    "\n",
    "#To print keys.    \n",
    "    \n",
    "x={\n",
    "    \"Anand\":[23,14],\n",
    "    \"Kittu\":[34,22],\n",
    "    \"Rahul\":[26,66],\n",
    "}\n",
    "for i in x:\n",
    "    print(i)"
   ]
  },
  {
   "cell_type": "code",
   "execution_count": 15,
   "id": "56c59d8d",
   "metadata": {},
   "outputs": [
    {
     "name": "stdout",
     "output_type": "stream",
     "text": [
      "[23, 14]\n",
      "Anand\n",
      "[34, 22]\n",
      "Kittu\n",
      "[26, 66]\n",
      "Rahul\n"
     ]
    }
   ],
   "source": [
    "#To Print values.\n",
    "\n",
    "x={\n",
    "    \"Anand\":[23,14],\n",
    "    \"Kittu\":[34,22],\n",
    "    \"Rahul\":[26,66],\n",
    "}\n",
    "for i in x:\n",
    "    print(x.get(i,\"Not Available\"))\n",
    "    print(i)\n"
   ]
  },
  {
   "cell_type": "code",
   "execution_count": 16,
   "id": "c69ce95a",
   "metadata": {},
   "outputs": [
    {
     "name": "stdout",
     "output_type": "stream",
     "text": [
      "r\n",
      "g\n",
      "b\n",
      "w\n"
     ]
    }
   ],
   "source": [
    "#Print keys .\n",
    "\n",
    "colors={\"r\":\"red\",\"g\":\"green\",\"b\":\"blue\",\"b\":\"black\",\"w\":\"white\"}\n",
    "for i in colors:\n",
    "    print(i)"
   ]
  },
  {
   "cell_type": "code",
   "execution_count": 30,
   "id": "f04d41c2",
   "metadata": {},
   "outputs": [
    {
     "name": "stdout",
     "output_type": "stream",
     "text": [
      "red\n",
      "green\n",
      "black\n",
      "white\n"
     ]
    }
   ],
   "source": [
    "#Print Values .\n",
    "\n",
    "colors={\"r\":\"red\",\"g\":\"green\",\"b\":\"blue\",\"b\":\"black\",\"w\":\"white\"}\n",
    "for i in colors:\n",
    "    print(colors[i])"
   ]
  },
  {
   "cell_type": "code",
   "execution_count": 22,
   "id": "ac99ea4d",
   "metadata": {},
   "outputs": [
    {
     "name": "stdout",
     "output_type": "stream",
     "text": [
      "red\n",
      "green\n",
      "black\n",
      "white\n"
     ]
    }
   ],
   "source": [
    "#Print Values with different get() method . \n",
    "\n",
    "colors={\"r\":\"red\",\"g\":\"green\",\"b\":\"blue\",\"b\":\"black\",\"w\":\"white\"}\n",
    "for i in colors:\n",
    "    print(colors.get(i,\"Not Available\"))\n",
    "    \n",
    "    \n",
    "  "
   ]
  },
  {
   "cell_type": "code",
   "execution_count": 28,
   "id": "29906249",
   "metadata": {},
   "outputs": [
    {
     "name": "stdout",
     "output_type": "stream",
     "text": [
      "red\n",
      "r\n",
      "green\n",
      "g\n",
      "black\n",
      "b\n",
      "white\n",
      "w\n"
     ]
    }
   ],
   "source": [
    " #And\n",
    "\n",
    "colors={\"r\":\"red\",\"g\":\"green\",\"b\":\"blue\",\"b\":\"black\",\"w\":\"white\"}\n",
    "for i in colors:\n",
    "    print(colors.get(i,\"Not Available\"))\n",
    "    print(i)\n",
    "    "
   ]
  },
  {
   "cell_type": "code",
   "execution_count": 47,
   "id": "a1c5d07b",
   "metadata": {},
   "outputs": [
    {
     "data": {
      "text/plain": [
       "dict_items([('r', 'red'), ('g', 'green'), ('b', 'black'), ('w', 'white')])"
      ]
     },
     "execution_count": 47,
     "metadata": {},
     "output_type": "execute_result"
    }
   ],
   "source": [
    "#USE of items() method. it used to seperate the items (keys and values).\n",
    "\n",
    "\n",
    "colors={\"r\":\"red\",\"g\":\"green\",\"b\":\"blue\",\"b\":\"black\",\"w\":\"white\"}\n",
    "colors.items()"
   ]
  },
  {
   "cell_type": "code",
   "execution_count": 42,
   "id": "453a522d",
   "metadata": {},
   "outputs": [
    {
     "name": "stdout",
     "output_type": "stream",
     "text": [
      "r red\n",
      "g green\n",
      "b black\n",
      "w white\n"
     ]
    }
   ],
   "source": [
    "#How we can print both Keys and Values.\n",
    "\n",
    "colors={\"r\":\"red\",\"g\":\"green\",\"b\":\"blue\",\"b\":\"black\",\"w\":\"white\"}\n",
    "for i,j in colors.items():\n",
    "    print(i,j)\n",
    "   "
   ]
  },
  {
   "cell_type": "code",
   "execution_count": 45,
   "id": "0721800c",
   "metadata": {},
   "outputs": [
    {
     "name": "stdout",
     "output_type": "stream",
     "text": [
      "key=r value=red\n",
      "key=g value=green\n",
      "key=b value=black\n",
      "key=w value=white\n"
     ]
    }
   ],
   "source": [
    "#Second type using format() method.\n",
    "\n",
    "colors={\"r\":\"red\",\"g\":\"green\",\"b\":\"blue\",\"b\":\"black\",\"w\":\"white\"}\n",
    "for i,j in colors.items():\n",
    "    print(\"key={} value={}\".format(i,j))"
   ]
  },
  {
   "cell_type": "code",
   "execution_count": 52,
   "id": "f97dbe69",
   "metadata": {},
   "outputs": [
    {
     "name": "stdout",
     "output_type": "stream",
     "text": [
      "dict_keys(['r', 'g', 'b', 'w'])\n",
      "dict_values(['red', 'green', 'black', 'white'])\n"
     ]
    }
   ],
   "source": [
    "#Print Keys\n",
    "\n",
    "colors={\"r\":\"red\",\"g\":\"green\",\"b\":\"blue\",\"b\":\"black\",\"w\":\"white\"}\n",
    "print(colors.keys())\n",
    "\n",
    "\n",
    "\n",
    "#And Values\n",
    "\n",
    "\n",
    "colors={\"r\":\"red\",\"g\":\"green\",\"b\":\"blue\",\"b\":\"black\",\"w\":\"white\"}\n",
    "print(colors.values())\n",
    "\n"
   ]
  },
  {
   "cell_type": "code",
   "execution_count": null,
   "id": "ff926d8c",
   "metadata": {},
   "outputs": [],
   "source": []
  },
  {
   "cell_type": "code",
   "execution_count": null,
   "id": "891aa34e",
   "metadata": {},
   "outputs": [],
   "source": [
    "                        #How we Convert Lists into Dictionaries\n",
    "    \n",
    "    "
   ]
  },
  {
   "cell_type": "code",
   "execution_count": 70,
   "id": "b15fc77e",
   "metadata": {},
   "outputs": [
    {
     "name": "stdout",
     "output_type": "stream",
     "text": [
      "{1: 'Anand', 2: 'Kittu', 3: 'Akash', 4: 'Ankit', 5: 'Ashish'}\n"
     ]
    }
   ],
   "source": [
    "x=[1,2,3,4,5]\n",
    "y=[\"Anand\",\"Kittu\",\"Akash\",\"Ankit\",\"Ashish\"]\n",
    "z=zip(x,y)      #zip() method is iterator of tuples where the 1st item in each list 1 iterate with list 2 .\n",
    "d=dict(z)       #convert tuple (z)  into list\n",
    "print(d)        #print(List)"
   ]
  }
 ],
 "metadata": {
  "kernelspec": {
   "display_name": "Python 3",
   "language": "python",
   "name": "python3"
  },
  "language_info": {
   "codemirror_mode": {
    "name": "ipython",
    "version": 3
   },
   "file_extension": ".py",
   "mimetype": "text/x-python",
   "name": "python",
   "nbconvert_exporter": "python",
   "pygments_lexer": "ipython3",
   "version": "3.8.8"
  }
 },
 "nbformat": 4,
 "nbformat_minor": 5
}
