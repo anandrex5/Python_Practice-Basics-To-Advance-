{
 "cells": [
  {
   "cell_type": "code",
   "execution_count": null,
   "id": "4f3ebae9",
   "metadata": {},
   "outputs": [],
   "source": [
    "#Python_Class 6\n",
    "#Patterns"
   ]
  },
  {
   "cell_type": "code",
   "execution_count": 11,
   "id": "a798a277",
   "metadata": {},
   "outputs": [
    {
     "name": "stdout",
     "output_type": "stream",
     "text": [
      "\n",
      "#\n",
      "##\n",
      "###\n",
      "####\n",
      "#####\n",
      "######\n"
     ]
    }
   ],
   "source": [
    "#1)\n",
    "\n",
    "#\n",
    "##\n",
    "###\n",
    "####\n",
    "#####\n",
    "######\n",
    "\n",
    "for i in range(7):\n",
    "    print(i*'#')\n"
   ]
  },
  {
   "cell_type": "code",
   "execution_count": 12,
   "id": "7e5eb146",
   "metadata": {},
   "outputs": [
    {
     "name": "stdout",
     "output_type": "stream",
     "text": [
      "#####\n",
      "####\n",
      "###\n",
      "##\n",
      "#\n"
     ]
    }
   ],
   "source": [
    "#2)\n",
    "\n",
    "######\n",
    "####\n",
    "###\n",
    "##\n",
    "#\n",
    "\n",
    "for i in range(5):\n",
    "    print((5-i)*'#')"
   ]
  },
  {
   "cell_type": "code",
   "execution_count": 6,
   "id": "80a6ffce",
   "metadata": {},
   "outputs": [
    {
     "name": "stdout",
     "output_type": "stream",
     "text": [
      "     #\n",
      "    ###\n",
      "   #####\n",
      "  #######\n"
     ]
    }
   ],
   "source": [
    "#3)\n",
    "\n",
    "      #\n",
    "     ###\n",
    "    #####\n",
    "   #######\n",
    "  #########\n",
    " ###########\n",
    "\n",
    "for i in range(4):\n",
    "    print((4-i)* \" \", (2*i+1)*\"#\")\n",
    "    "
   ]
  },
  {
   "cell_type": "code",
   "execution_count": 1,
   "id": "f82b190b",
   "metadata": {},
   "outputs": [
    {
     "name": "stdout",
     "output_type": "stream",
     "text": [
      " #######\n",
      "  #####\n",
      "   ###\n",
      "    #\n"
     ]
    }
   ],
   "source": [
    "#4\n",
    "\n",
    " #######\n",
    "  #####\n",
    "   ###\n",
    "    #\n",
    "    \n",
    "    for i in range(4):\n",
    "    print(i*\" \",(7-2*i)*\"#\")"
   ]
  },
  {
   "cell_type": "code",
   "execution_count": 13,
   "id": "d6d9a416",
   "metadata": {},
   "outputs": [
    {
     "name": "stdout",
     "output_type": "stream",
     "text": [
      "    #\n",
      "   ###\n",
      "  #####\n",
      " #######\n",
      " #######\n",
      "  #####\n",
      "   ###\n",
      "    #\n"
     ]
    }
   ],
   "source": [
    "#5\n",
    "\n",
    "    #\n",
    "   ###\n",
    "  #####\n",
    " #######\n",
    " #######\n",
    "  #####\n",
    "   ###\n",
    "    #\n",
    "    \n",
    "\n",
    "\n",
    "for i in range(4):\n",
    "    print((3-i)*\" \",(2*i+1)*\"#\")\n",
    "for i in range(4):\n",
    "    print(i*\" \",(7-2*i)*\"#\")\n",
    "        "
   ]
  }
 ],
 "metadata": {
  "kernelspec": {
   "display_name": "Python 3",
   "language": "python",
   "name": "python3"
  },
  "language_info": {
   "codemirror_mode": {
    "name": "ipython",
    "version": 3
   },
   "file_extension": ".py",
   "mimetype": "text/x-python",
   "name": "python",
   "nbconvert_exporter": "python",
   "pygments_lexer": "ipython3",
   "version": "3.8.8"
  }
 },
 "nbformat": 4,
 "nbformat_minor": 5
}
