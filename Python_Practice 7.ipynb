{
 "cells": [
  {
   "cell_type": "code",
   "execution_count": 1,
   "id": "d11ce0ef",
   "metadata": {},
   "outputs": [
    {
     "name": "stdout",
     "output_type": "stream",
     "text": [
      "1\n",
      "2\n",
      "6\n",
      "24\n",
      "120\n",
      "120\n"
     ]
    }
   ],
   "source": [
    "#Factorial In Python\n",
    "#Q1) x=5\n",
    "\n",
    "mul=1\n",
    "for i in range(1,6):\n",
    "    mul=mul*i\n",
    "    print(mul)\n",
    "    \n",
    "    #OR\n",
    "#IF you want to print Direct value.\n",
    "\n",
    "mul=1\n",
    "for i in range(1,6):\n",
    "    mul=mul*i\n",
    "print(mul)\n",
    "    "
   ]
  },
  {
   "cell_type": "code",
   "execution_count": 1,
   "id": "56b28b91",
   "metadata": {},
   "outputs": [
    {
     "name": "stdout",
     "output_type": "stream",
     "text": [
      "120\n",
      "720\n",
      "40320\n",
      "3628800\n",
      "362880\n"
     ]
    }
   ],
   "source": [
    "#Find Factorial in the given list.\n",
    "\n",
    "x= [5,6,8,10,9]\n",
    "for i in x:\n",
    "    fact=1\n",
    "    for i in range(1,i+1):\n",
    "        fact = fact*i\n",
    "    print(fact)\n",
    "    \n"
   ]
  },
  {
   "cell_type": "code",
   "execution_count": 3,
   "id": "3f2782cd",
   "metadata": {},
   "outputs": [
    {
     "name": "stdout",
     "output_type": "stream",
     "text": [
      "6 The factorial is even 720\n",
      "8 The factorial is even 40320\n",
      "10 The factorial is even 3628800\n",
      "12 The factorial is even 479001600\n"
     ]
    }
   ],
   "source": [
    "#Find Factorial in the given list and it is even If yes then print it.\n",
    "\n",
    "x= [5,6,8,10,12]\n",
    "for i in x:\n",
    "    fact=1\n",
    "    for j in range(1,i+1):\n",
    "        fact = fact*j\n",
    "    if(j%2==0):\n",
    "        print(i,\"The factorial is even\",(fact))"
   ]
  },
  {
   "cell_type": "code",
   "execution_count": 4,
   "id": "dbcf8f5b",
   "metadata": {},
   "outputs": [
    {
     "name": "stdout",
     "output_type": "stream",
     "text": [
      "3\n",
      "18\n",
      "180\n",
      "3780\n"
     ]
    }
   ],
   "source": [
    "#Find the multiplication .\n",
    "\n",
    "x= [3,6,10,21]\n",
    "\n",
    "mul=1\n",
    "for i in x:\n",
    "    mul=mul*i\n",
    "    print(mul)"
   ]
  },
  {
   "cell_type": "code",
   "execution_count": 6,
   "id": "018d9ab1",
   "metadata": {},
   "outputs": [
    {
     "name": "stdout",
     "output_type": "stream",
     "text": [
      "3555\n"
     ]
    }
   ],
   "source": [
    "#Find the maximum number in the given list.\n",
    "\n",
    "x=[9,10,32,66,77,3555,999,0]\n",
    "\n",
    "max=1\n",
    "for i in x:\n",
    "    if(i>max):\n",
    "        max =i\n",
    "print(max)"
   ]
  },
  {
   "cell_type": "code",
   "execution_count": 7,
   "id": "165a274c",
   "metadata": {},
   "outputs": [
    {
     "name": "stdout",
     "output_type": "stream",
     "text": [
      "100\n"
     ]
    }
   ],
   "source": [
    "#Find the maximum number, which has to be even.\n",
    "\n",
    "x= x =[9,10,32,21,4,100]\n",
    "max=1\n",
    "for i in x:\n",
    "    if(i>max):\n",
    "        max=i\n",
    "if(max%2==0):\n",
    "    print(max)"
   ]
  },
  {
   "cell_type": "code",
   "execution_count": 8,
   "id": "61c477d5",
   "metadata": {},
   "outputs": [
    {
     "name": "stdout",
     "output_type": "stream",
     "text": [
      "100\n"
     ]
    }
   ],
   "source": [
    "#Previous Question different approach\n",
    "\n",
    "x= x =[9,10,32,21,4,100]\n",
    "max=1\n",
    "for i in x:\n",
    "    if(i>max):\n",
    "        if(i%2==0):\n",
    "            max=i\n",
    "print(max)"
   ]
  },
  {
   "cell_type": "code",
   "execution_count": 9,
   "id": "6073c591",
   "metadata": {},
   "outputs": [
    {
     "name": "stdout",
     "output_type": "stream",
     "text": [
      "100\n"
     ]
    }
   ],
   "source": [
    "#Previous Question different approach using and Operator.\n",
    "\n",
    "x= x =[9,10,32,21,4,100]\n",
    "max=1\n",
    "for i in x:\n",
    "    if(i>max) and (i%2==0):\n",
    "        max=i\n",
    "print(max)\n"
   ]
  },
  {
   "cell_type": "code",
   "execution_count": null,
   "id": "db32ae01",
   "metadata": {},
   "outputs": [],
   "source": []
  }
 ],
 "metadata": {
  "kernelspec": {
   "display_name": "Python 3",
   "language": "python",
   "name": "python3"
  },
  "language_info": {
   "codemirror_mode": {
    "name": "ipython",
    "version": 3
   },
   "file_extension": ".py",
   "mimetype": "text/x-python",
   "name": "python",
   "nbconvert_exporter": "python",
   "pygments_lexer": "ipython3",
   "version": "3.8.8"
  }
 },
 "nbformat": 4,
 "nbformat_minor": 5
}
