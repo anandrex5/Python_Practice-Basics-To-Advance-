{
 "cells": [
  {
   "cell_type": "code",
   "execution_count": 9,
   "id": "466724c7",
   "metadata": {},
   "outputs": [
    {
     "data": {
      "text/plain": [
       "[18, 20]"
      ]
     },
     "execution_count": 9,
     "metadata": {},
     "output_type": "execute_result"
    }
   ],
   "source": [
    "#wap to contains 3 values in one key.\n",
    "\n",
    "x= {\"name\":[\"Rahul\",\"Ravi\",\"Rohan\"] ,\"age\":[18,20]}\n",
    "x[\"age\"]"
   ]
  },
  {
   "cell_type": "code",
   "execution_count": 22,
   "id": "d2761de6",
   "metadata": {},
   "outputs": [
    {
     "name": "stdout",
     "output_type": "stream",
     "text": [
      "Employee name : Rohan sallery is :- 22\n",
      "Ravi 20\n"
     ]
    }
   ],
   "source": [
    "#Wap contains 3 employee(values) in single key print last two valaues(employee) with its sallery. \n",
    "\n",
    "x= {\"employee\":[\"Rahul\",\"Ravi\",\"Rohan\"] ,\"salery\":[18,20,22]}\n",
    "print(\"Employee name :\",x[\"employee\"][-1],\"sallery is :-\",x[\"salery\"][-1])\n",
    "print(x[\"employee\"][-2],x[\"salery\"][-2])\n",
    "\n"
   ]
  },
  {
   "cell_type": "code",
   "execution_count": 26,
   "id": "e4a44c13",
   "metadata": {},
   "outputs": [
    {
     "data": {
      "text/plain": [
       "60"
      ]
     },
     "execution_count": 26,
     "metadata": {},
     "output_type": "execute_result"
    }
   ],
   "source": [
    "#Wap contains 3 employee(values) in single key print sum of total values(sallery).\n",
    "\n",
    "\n",
    "x= {\"employee\":[\"Rahul\",\"Ravi\",\"Rohan\"] ,\"salery\":[18,20,22]}\n",
    "sum(x[\"salery\"])\n"
   ]
  },
  {
   "cell_type": "code",
   "execution_count": 27,
   "id": "a3b0f549",
   "metadata": {},
   "outputs": [
    {
     "name": "stdout",
     "output_type": "stream",
     "text": [
      "60\n"
     ]
    }
   ],
   "source": [
    "#SAME QUESTION WITH DIFFERENT LOGICabs\n",
    "\n",
    "\n",
    "\n",
    "x= {\"employee\":[\"Rahul\",\"Ravi\",\"Rohan\"] ,\"salery\":[18,20,22]}\n",
    "\n",
    "x[\"salery\"]\n",
    "sum=0\n",
    "for i in x[\"salery\"]:\n",
    "    sum = sum+i\n",
    "print(sum)"
   ]
  },
  {
   "cell_type": "code",
   "execution_count": null,
   "id": "8f02a485",
   "metadata": {},
   "outputs": [],
   "source": [
    "                                        #OPERATION IN DICTIONARY\n"
   ]
  },
  {
   "cell_type": "code",
   "execution_count": 30,
   "id": "baad0293",
   "metadata": {},
   "outputs": [
    {
     "name": "stdout",
     "output_type": "stream",
     "text": [
      "The length of the id is: 2\n"
     ]
    }
   ],
   "source": [
    "#fIND the number of id(Keys).\n",
    "\n",
    "\n",
    "\n",
    "x= {\"employee\":[\"Rahul\",\"Ravi\",\"Rohan\"] ,\"salery\":[18,20,22]}\n",
    "n=len(x)\n",
    "print(\"The length of the id is:\",n)"
   ]
  },
  {
   "cell_type": "code",
   "execution_count": 32,
   "id": "b45c89f2",
   "metadata": {},
   "outputs": [
    {
     "name": "stdout",
     "output_type": "stream",
     "text": [
      "The length of the id is: 3\n"
     ]
    }
   ],
   "source": [
    "#Same question.\n",
    "\n",
    "#fIND the number of id(Keys).\n",
    "\n",
    "\n",
    "\n",
    "x= {\"employee\":[\"Rahul\",\"Ravi\",\"Rohan\"] ,\"salery\":[18,20,22],\"place\":[\"kanpur\",\"noida\",\"banglore\"]}\n",
    "n=len(x)\n",
    "#x = employee, salery, place (therefore , number of keys is 3)\n",
    "print(\"The length of the id is:\",n)"
   ]
  },
  {
   "cell_type": "code",
   "execution_count": 35,
   "id": "4001680c",
   "metadata": {},
   "outputs": [
    {
     "data": {
      "text/plain": [
       "50000"
      ]
     },
     "execution_count": 35,
     "metadata": {},
     "output_type": "execute_result"
    }
   ],
   "source": [
    "#Modifying the values .\n",
    "\n",
    "x= {\"employee\":[\"Rahul\",\"Ravi\",\"Rohan\"] ,\"salery\":50000}\n",
    "x[\"salery\"]\n",
    "\n",
    "\n"
   ]
  },
  {
   "cell_type": "code",
   "execution_count": 38,
   "id": "5e1dbaec",
   "metadata": {},
   "outputs": [
    {
     "name": "stdout",
     "output_type": "stream",
     "text": [
      "60000\n"
     ]
    }
   ],
   "source": [
    "#previous salery is 50000. Now, modify it.\n",
    "x[\"salery\"]=60000\n",
    "print(x[\"salery\"])"
   ]
  },
  {
   "cell_type": "code",
   "execution_count": 42,
   "id": "eaf603b1",
   "metadata": {},
   "outputs": [
    {
     "data": {
      "text/plain": [
       "'green'"
      ]
     },
     "execution_count": 42,
     "metadata": {},
     "output_type": "execute_result"
    }
   ],
   "source": [
    "#Example 2 of  Modifying the values.\n",
    "\n",
    "alien = {\"color\":\"green\"}\n",
    "alien[\"color\"]\n",
    "\n"
   ]
  },
  {
   "cell_type": "code",
   "execution_count": 45,
   "id": "bbb62086",
   "metadata": {},
   "outputs": [
    {
     "name": "stdout",
     "output_type": "stream",
     "text": [
      "red\n"
     ]
    }
   ],
   "source": [
    "#Now modifying it.\n",
    "\n",
    "alien[\"color\"]=\"red\"\n",
    "print(alien[\"color\"])\n",
    "\n"
   ]
  },
  {
   "cell_type": "code",
   "execution_count": 49,
   "id": "019b58ce",
   "metadata": {},
   "outputs": [
    {
     "name": "stdout",
     "output_type": "stream",
     "text": [
      "{'employee': ['Rahul', 'Ravi', 'Rohan'], 'salery': [18, 20, 22], 'Palace': 'noida'}\n"
     ]
    }
   ],
   "source": [
    "#Wap to add one key with its one value.\n",
    "\n",
    "\n",
    "x= {\"employee\":[\"Rahul\",\"Ravi\",\"Rohan\"] ,\"salery\":[18,20,22]}\n",
    "\n",
    "#we add key(Palace) with its value(Noida)\n",
    "\n",
    "x[\"Palace\"]=\"noida\"\n",
    "print(x)\n"
   ]
  },
  {
   "cell_type": "code",
   "execution_count": 51,
   "id": "801f2eb0",
   "metadata": {},
   "outputs": [
    {
     "data": {
      "text/plain": [
       "True"
      ]
     },
     "execution_count": 51,
     "metadata": {},
     "output_type": "execute_result"
    }
   ],
   "source": [
    "#To check the key in the list or not.\n",
    "\n",
    "x= {\"employee\":[\"Rahul\",\"Ravi\",\"Rohan\"] ,\"salery\":[18,20,22]}\n",
    "\n",
    "#check employee(key )\n",
    "\n",
    "\"employee\" in x"
   ]
  },
  {
   "cell_type": "code",
   "execution_count": 54,
   "id": "8941c863",
   "metadata": {},
   "outputs": [
    {
     "data": {
      "text/plain": [
       "{'employee': 'Rahul', 'salery': 500}"
      ]
     },
     "execution_count": 54,
     "metadata": {},
     "output_type": "execute_result"
    }
   ],
   "source": [
    "#Duplicates values are not allowed in dictionary.\n",
    "\n",
    "#Example - \n",
    "\n",
    "x= {\"employee\":\"Rahul\" ,\"salery\":500}\n",
    "x\n",
    "\n"
   ]
  },
  {
   "cell_type": "code",
   "execution_count": 56,
   "id": "3df51d1a",
   "metadata": {},
   "outputs": [
    {
     "data": {
      "text/plain": [
       "{'employee': 'Rahul', 'salery': 600}"
      ]
     },
     "execution_count": 56,
     "metadata": {},
     "output_type": "execute_result"
    }
   ],
   "source": [
    "#now we add Duplicates key and values. To check whether its allowed or not.\n",
    "\n",
    "x= {\"employee\":\"Rahul\" ,\"salery\":500,\"salery\":600}\n",
    "\n",
    "x\n",
    "#see output get updated because it doesnt allow duplicates keys and values.\n",
    "#And if you add it , it will get updated by last value."
   ]
  },
  {
   "cell_type": "code",
   "execution_count": 61,
   "id": "eba6c1bf",
   "metadata": {},
   "outputs": [
    {
     "name": "stdout",
     "output_type": "stream",
     "text": [
      "{}\n"
     ]
    }
   ],
   "source": [
    "#If you want to clear the inside the dictionary.\n",
    "#use clear() function.\n",
    "\n",
    "#Example - \n",
    "\n",
    "x= {\"employee\":\"Rahul\" ,\"salery\":500,\"salery\":600}\n",
    "x.clear()\n",
    "print(x)\n"
   ]
  },
  {
   "cell_type": "code",
   "execution_count": 62,
   "id": "3c590b64",
   "metadata": {},
   "outputs": [
    {
     "data": {
      "text/plain": [
       "dict"
      ]
     },
     "execution_count": 62,
     "metadata": {},
     "output_type": "execute_result"
    }
   ],
   "source": [
    "#check type of x ?\n",
    "\n",
    "type(x)"
   ]
  },
  {
   "cell_type": "code",
   "execution_count": 65,
   "id": "b9423a1c",
   "metadata": {},
   "outputs": [
    {
     "name": "stdout",
     "output_type": "stream",
     "text": [
      "{'employee': 'Rahul', 'salery': 600}\n"
     ]
    }
   ],
   "source": [
    "#if you want to make a copy of list use copy() function.\n",
    "\n",
    "\n",
    "x= {\"employee\":\"Rahul\" ,\"salery\":500,\"salery\":600}\n",
    "y=x.copy()\n",
    "\n",
    "#Here we copy the data into y.\n",
    "\n",
    "print(y)\n",
    "\n",
    "#now print y to check the values."
   ]
  },
  {
   "cell_type": "code",
   "execution_count": 67,
   "id": "89e00380",
   "metadata": {},
   "outputs": [
    {
     "data": {
      "text/plain": [
       "'Its not available'"
      ]
     },
     "execution_count": 67,
     "metadata": {},
     "output_type": "execute_result"
    }
   ],
   "source": [
    "#Print the message if any value is not present in the list.\n",
    "\n",
    "\n",
    "x= {\"employee\":\"Rahul\" ,\"age\":18}\n",
    "x.get(\"salery\",\"Its not available\")\n"
   ]
  },
  {
   "cell_type": "code",
   "execution_count": 68,
   "id": "8f050c5c",
   "metadata": {
    "scrolled": true
   },
   "outputs": [
    {
     "data": {
      "text/plain": [
       "10"
      ]
     },
     "execution_count": 68,
     "metadata": {},
     "output_type": "execute_result"
    }
   ],
   "source": [
    "x.get(\"id\",10)"
   ]
  },
  {
   "cell_type": "code",
   "execution_count": 3,
   "id": "ec6ae251",
   "metadata": {},
   "outputs": [
    {
     "data": {
      "text/plain": [
       "[18, 20]"
      ]
     },
     "execution_count": 3,
     "metadata": {},
     "output_type": "execute_result"
    }
   ],
   "source": [
    "# use of get to find the values.\n",
    "\n",
    "x= {\"employee\":[\"Rahul\" ,\"Raj\"],\"age\":[18,20]}\n",
    "\n",
    "x.get(\"age\",\"No\")\n",
    "\n",
    "#we use get to find the values of age(Key)"
   ]
  },
  {
   "cell_type": "code",
   "execution_count": 16,
   "id": "0a4a11a5",
   "metadata": {},
   "outputs": [
    {
     "name": "stdout",
     "output_type": "stream",
     "text": [
      "Enter employee nameRahul\n"
     ]
    },
    {
     "data": {
      "text/plain": [
       "[18, 20]"
      ]
     },
     "execution_count": 16,
     "metadata": {},
     "output_type": "execute_result"
    }
   ],
   "source": [
    "#Write a program that will return age of the employee if user provides name.\n",
    "#if user is not in data set it will provide Employee is not exist.\n",
    "\n",
    "x={\"employee\":[\"Rahul\",\"Raj\"] ,\"age\":[18,20]}\n",
    "p=input(\"Enter employee name\")\n",
    "x.get(\"age\",\"Employe is not exist\")\n",
    "\n",
    "\n"
   ]
  },
  {
   "cell_type": "code",
   "execution_count": null,
   "id": "ebcdcb59",
   "metadata": {},
   "outputs": [],
   "source": []
  }
 ],
 "metadata": {
  "kernelspec": {
   "display_name": "Python 3",
   "language": "python",
   "name": "python3"
  },
  "language_info": {
   "codemirror_mode": {
    "name": "ipython",
    "version": 3
   },
   "file_extension": ".py",
   "mimetype": "text/x-python",
   "name": "python",
   "nbconvert_exporter": "python",
   "pygments_lexer": "ipython3",
   "version": "3.8.8"
  }
 },
 "nbformat": 4,
 "nbformat_minor": 5
}
